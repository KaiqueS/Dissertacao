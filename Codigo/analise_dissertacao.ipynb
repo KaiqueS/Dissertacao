{
 "cells": [
  {
   "cell_type": "code",
   "execution_count": null,
   "metadata": {
    "vscode": {
     "languageId": "r"
    }
   },
   "outputs": [],
   "source": [
    "library( \"readODS\" )\n",
    "library( \"tidyverse\" )\n",
    "library( \"readxl\" )\n",
    "library( \"foreign\" )\n",
    "library( \"httr\" )\n",
    "library( \"xml2\" )\n",
    "library( \"rvest\" )\n",
    "library( ff )\n",
    "library( dplyr )\n",
    "library( plyr )\n",
    "library( basedosdados )\n",
    "library( DescTools )\n",
    "library( haven )\n",
    "library( lfe )\n",
    "library( fixest )\n",
    "\n",
    "### TODO: checar se no dataset derivado de Brollo os sorteios são os que ela usa no trabalho dela, i.e., sorteios 1-29\n",
    "### TODO: talvez usar a pontuação dos partidos em Bolognesi, ao invés de esquerda-centro-direita, só pra ver no que dá\n",
    "### TODO: termo interativo de Corrupção e Ideologia para explicar reeleição\n",
    "\n",
    "setwd( \"G:/Trabalho/Dissertacao/Datasets/Sorteios/\" )\n",
    "\n",
    "municipios_sorteados_0138 <- read.csv( \"municipios_sorteados_01_38.csv\", sep = \",\" )\n",
    "municipios_sorteados_0138 <- municipios_sorteados_0138[ , -c( 1 ) ]"
   ]
  },
  {
   "cell_type": "code",
   "execution_count": null,
   "metadata": {
    "vscode": {
     "languageId": "r"
    }
   },
   "outputs": [],
   "source": [
    "setwd( \"G:/Trabalho/Dissertacao/Datasets/TSE\" )\n",
    "\n",
    "tse_basedosdados <- read.csv( \"tse_resultados_bdd_00_12.csv\", sep = \",\" )\n",
    "# tse_basedosdados <- subset( tse_basedosdados, subset = ano == 2000 | ano == 2004 | ano == 2008 | ano == 2012 )\n",
    "\n",
    "# tse_source_00_08 <- read.csv( \"eleicoes_00_08.csv\", sep = \",\" )\n",
    "# tse_source_00_08 <- tse_source_00_08[ , -1 ]"
   ]
  },
  {
   "cell_type": "code",
   "execution_count": null,
   "metadata": {
    "vscode": {
     "languageId": "r"
    }
   },
   "outputs": [],
   "source": [
    "setwd( \"G:/Trabalho/Dissertacao/Datasets/IBGE/\" )\n",
    "\n",
    "codigos_municipios_ibge <- read_xls( \"codigos_municipios.xls\" )\n",
    "codigos_municipios_ibge$`Código Município Completo` <- as.numeric( codigos_municipios_ibge$`Código Município Completo` )\n",
    "\n",
    "match_codigosmun_tse <- match( codigos_municipios_ibge$`Código Município Completo`, tse_basedosdados$id_municipio )\n",
    "\n",
    "codigos_municipios_ibge$sigla_uf <- tse_basedosdados[ c( match_codigosmun_tse ), \"sigla_uf\" ]\n",
    "\n",
    "municipios_sorteados_0138 <- left_join( municipios_sorteados_0138, codigos_municipios_ibge[ , c( \"Código Município Completo\", \"sigla_uf\", \"Nome_Município\" ) ], by = c( \"uf\" = \"sigla_uf\", \"municipio\" = \"Nome_Município\" ) )\n",
    "\n",
    "# FIX: exemplo -> candidatos eleitos em 2004 só assumem em 2005, mas aqui aparecem como incumbentes\n",
    "municipios_sorteados_0138[ 'ano_eleicao' ] <- municipios_sorteados_0138$year - ( municipios_sorteados_0138$year %% 4 )\n",
    "\n",
    "teste2 <- left_join( municipios_sorteados_0138, tse_basedosdados[ , c( \"id_municipio\", \"nome\", \"nome_urna\", \"sigla_partido\", \"ano\", \"Ideologia\", \"sigla_uf\", \"resultado\" ) ], \n",
    "                     by = c( \"Código Município Completo\" = \"id_municipio\", \"ano_eleicao\" = \"ano\", \"uf\" = \"sigla_uf\" ) )\n",
    "\n",
    "sum(is.na(teste$nome_urna))\n",
    "\n",
    "#sorteio_brollo <- subset( municipios_sorteados_0138, sorteio <= 29 )\n",
    "#sorteio_ferraz <- subset( municipios_sorteados_0138, sorteio >= 22 & sorteio <= 38 )\n",
    "\n",
    "# tse_brollo <- subset( tse_basedosdados, cargo == \"prefeito\" )\n",
    "# tse_brollo <- subset( tse_brollo, subset = ano == 2000 | ano == 2004 )\n",
    "# \n",
    "# tse_ferraz <- subset( tse_basedosdados, cargo == \"prefeito\" )\n",
    "# tse_ferraz <- subset( tse_ferraz, subset = ano == 2004 | ano == 2008 | ano == 2012 )\n",
    "\n",
    "# NOTA: os dados do TSE da BaseDosDados são horríveis. Tenho que raspar os dados direto do site do TSE.\n",
    "\n",
    "ibge_pop_bdd <- read.csv( \"ibge_populacao_bdd.csv\", sep = \",\" )"
   ]
  },
  {
   "cell_type": "code",
   "execution_count": null,
   "metadata": {
    "vscode": {
     "languageId": "r"
    }
   },
   "outputs": [],
   "source": [
    "# NOTA: Adicionar População ao banco FPM, depois filtrar para populações entre 6800 e 60000\n",
    "setwd( \"G:/Trabalho/Dissertacao/Datasets/TesouroN/\" )\n",
    "\n",
    "fpm <- read.csv( \"fpm_2001_2008.csv\", sep = \";\", fileEncoding = \"latin1\" )\n",
    "# teste_fpm <- as.data.frame( gsub( \"[^0-9,]\", \"\", fpm$Valor.Consolidado ) )\n",
    "# teste_fpm$`gsub(\"[^0-9,]\", \"\", fpm$Valor.Consolidado)` <- parse_number( teste_fpm$`gsub(\"[^0-9,]\", \"\", fpm$Valor.Consolidado)`, locale = readr::locale( decimal_mark = \",\" ) )\n",
    "\n",
    "match_sorteios_fpm <- match( municipios_sorteados_0138$`Código Município Completo`, fpm$Código.IBGE )\n",
    "\n",
    "municipios_sorteados_0138[ 'codigo_siafi' ] <- fpm[ match_sorteios_fpm, \"Código.SIAFI\" ]"
   ]
  },
  {
   "cell_type": "code",
   "execution_count": null,
   "metadata": {
    "vscode": {
     "languageId": "r"
    }
   },
   "outputs": [],
   "source": [
    "setwd( \"G:/Trabalho/Dissertacao/Datasets/IBGE/ibge_pop_censo_source/\" )\n",
    "\n",
    "ibge_pop_censo <- read.csv( \"ibge_populacao_censo_2000.csv\", sep = \",\" )"
   ]
  },
  {
   "cell_type": "code",
   "execution_count": null,
   "metadata": {
    "vscode": {
     "languageId": "r"
    }
   },
   "outputs": [],
   "source": [
    "setwd( \"G:/Trabalho/Dissertacao/Datasets/IBGE/ibge_source/\" )\n",
    "\n",
    "ibge_pop <- read.csv( \"ibge_0108.csv\", sep = \",\" )\n",
    "\n",
    "ibge_media_0104 <- subset( ibge_pop, ano <= 2002 )\n",
    "ibge_media_0104[ 'media_pop' ] <- with( subset( ibge_pop, ano <= 2002 ), ave( populacao, id_city_ibge ) )\n",
    "ibge_media_0104 <- ibge_media_0104[ !duplicated( ibge_media_0104$id_city_ibge ), ]\n",
    "ibge_media_0104[ , \"ano\" ] <- 2001\n",
    "#ibge_media_0104$populacao <- round( ibge_media_0104$populacao )\n",
    "\n",
    "ibge_media_0508 <- subset( ibge_pop, ano >= 2004 )\n",
    "ibge_media_0508[ 'media_pop' ] <- with( subset( ibge_pop, ano >= 2004 ), ave( populacao, id_city_ibge ) )\n",
    "ibge_media_0508 <- ibge_media_0508[ !duplicated( ibge_media_0508$id_city_ibge ), ]\n",
    "ibge_media_0508[ , \"ano\" ] <- 2005"
   ]
  },
  {
   "cell_type": "code",
   "execution_count": null,
   "metadata": {
    "vscode": {
     "languageId": "r"
    }
   },
   "outputs": [],
   "source": [
    "# NOTA: eu tenho acesso aos FPM no banco de dados do Tesouro, posso usar pra dar join ou match\n",
    "setwd( \"G:/Trabalho/Dissertacao/Datasets/Brollo/\" )\n",
    "\n",
    "large_brollo <- read_dta( \"AER_largesample.dta\" )\n",
    "small_brollo <- read_dta( \"AER_smallsample.dta\" )\n",
    "\n",
    "small_large <- left_join( small_brollo[ , c( \"term\", \"pop\", \"pop_2\", \"pop_3\", \"pop_cat\", \"fpm\", \"literacy\", \"urb\", \"broad\", \"narrow\", \"fraction_narrow\", \"fraction_broad\" ) ],\n",
    "                          large_brollo[ , c( \"term\", \"pop\", \"pop_2\", \"pop_3\", \"pop_cat\", \"fpm\", \"id_city\", \"uf\", \"regions\" ) ],\n",
    "                          by = c( \"term\", \"pop\", \"pop_2\", \"pop_3\", \"pop_cat\", \"fpm\" ) )\n",
    "\n",
    "small_large <- small_large[ complete.cases( small_large ), ]\n",
    "small_large <- small_large[ !duplicated( small_large ), ]\n",
    "\n",
    "teste_sorteios_brollo <- left_join( small_large, teste2, by = c( \"id_city\" = \"codigo_siafi\" ) )\n",
    "teste_sorteios_brollo <- teste_sorteios_brollo[ complete.cases( teste_sorteios_brollo ), ] \n",
    "\n",
    "model_brollo <- glm( broad ~ Ideologia + fpm + literacy, family = binomial( link = 'logit' ), data = teste_sorteios_brollo )\n",
    "\n",
    "lm_brollo <- lm( fraction_narrow ~ Ideologia + fpm + literacy, data = teste_sorteios_brollo )\n",
    "\n",
    "feols_brollo <- feols( fraction_narrow ~ Ideologia + fpm + literacy | municipio, teste_sorteios_brollo )\n",
    "\n",
    "summary( feols_brollo, vcov_cluster( \"municipio\" ) )\n",
    "\n",
    "summary( model_brollo )\n",
    "summary( lm_brollo )\n",
    "\n",
    "brollo_2001 <- subset( small_brollo, term == 2001 )\n",
    "#brollo_2001$pop <- round( brollo_2001$pop )\n",
    "\n",
    "brollo_2005 <- subset( small_brollo, term == 2005 )\n",
    "\n",
    "teste <- match( brollo_2001$pop, ibge_pop$populacao )\n",
    "teste <- teste[ complete.cases( teste ) ]"
   ]
  },
  {
   "cell_type": "code",
   "execution_count": null,
   "metadata": {
    "vscode": {
     "languageId": "r"
    }
   },
   "outputs": [],
   "source": [
    "setwd( \"G:/Trabalho/Dissertacao/Datasets/Ferraz/Stata/\" )\n",
    "\n",
    "ferraz_table1 <- read_dta( \"table1.dta\" )\n",
    "ferraz_table1[ 'round_lpop' ] <- round( log( ferraz_table1$pop ) )\n",
    "ferraz_table1$tx_analf18m <- ferraz_table1$tx_analf18m * 100\n",
    "\n",
    "ferraz_table2 <- read_dta( \"table2.dta\" )\n",
    "ferraz_table2[ 'round_lpop' ] <- round( ferraz_table2$lpop )\n",
    "ferraz_table2[ 'pop' ] <- round( exp( ferraz_table2$lpop ) )\n",
    "\n",
    "match_teste <- left_join( ferraz_table2, ferraz_table1, by = c( \"gini\", \"tx_analf18m\", \"no_os\", \"treatment\", \"pop\" ) )\n",
    "match_teste <- match_teste[ complete.cases( match_teste ), ]\n",
    "\n",
    "ibge_pop_ferraz <- match( ferraz_table2$pop, ibge_pop$populacao )\n",
    "ibge_pop_ferraz <- ibge_pop_ferraz[ complete.cases( ibge_pop_ferraz ) ]\n",
    "\n",
    "ibge_bdd_ferraz <- match( ferraz_table2$pop, ibge_pop_bdd$populacao )\n",
    "ibge_bdd_ferraz <- ibge_bdd_ferraz[ complete.cases( ibge_bdd_ferraz ) ]\n",
    "\n",
    "ibge_censo_ferraz <- match( ferraz_table2$pop, ibge_pop_censo$populacao )\n",
    "ibge_censo_ferraz <- ibge_censo_ferraz[ complete.cases( ibge_censo_ferraz ) ]\n",
    "\n",
    "ferraz_sorteios <- left_join( teste2, ibge_pop_bdd[ , c( \"id_municipio\", \"populacao\" ) ], by = c( \"Código Município Completo\" = \"id_municipio\" ) )\n",
    "\n",
    "agora_vai <- left_join( ferraz_table2, ferraz_sorteios[ , c( \"populacao\", \"sorteio\", \"municipio\", \"uf\", \"Código Município Completo\" , \"nome\", \"sigla_partido\", \"Ideologia\", \"resultado\" ) ], by = c( \"pop\" = \"populacao\", \"sorteio\" ) )\n",
    "agora_vai <- agora_vai[ complete.cases( agora_vai ), ]\n",
    "\n",
    "reg_lin <- lm( lfalha_total ~ Ideologia, data = agora_vai  )\n",
    "anova_model <- aov( lfalha_total ~ Ideologia, data = agora_vai )\n",
    "\n",
    "# TODO: fazer gráficos mostrando o número de partidos de esquerda-centro-direita no brasil ao longo dos períodos estudados\n",
    "#       e colocar no texto da dissertação\n",
    "# IDEIA: e se eu usar as pontuações dos partidos no espectro esquerda-direita, ao invés de ideologia como categoria?\n",
    "#        Acho que dá merda. O modelo pode considerar que há uma ordinalidade na variável.\n",
    "\n",
    "summary( reg_lin )\n",
    "summary( anova_model )\n",
    "\n",
    "plot( anova_model )"
   ]
  },
  {
   "cell_type": "code",
   "execution_count": null,
   "metadata": {
    "vscode": {
     "languageId": "r"
    }
   },
   "outputs": [],
   "source": []
  }
 ],
 "metadata": {
  "kernelspec": {
   "display_name": "R",
   "language": "R",
   "name": "ir"
  },
  "language_info": {
   "codemirror_mode": "r",
   "file_extension": ".r",
   "mimetype": "text/x-r-source",
   "name": "R",
   "pygments_lexer": "r",
   "version": "4.2.1"
  },
  "orig_nbformat": 4,
  "vscode": {
   "interpreter": {
    "hash": "19d1d53a962d236aa061289c2ac16dc8e6d9648c89fe79f459ae9a3493bc67b4"
   }
  }
 },
 "nbformat": 4,
 "nbformat_minor": 2
}
